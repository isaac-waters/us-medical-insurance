{
 "cells": [
  {
   "cell_type": "markdown",
   "metadata": {},
   "source": [
    "# U.S. Medical Insurance Costs"
   ]
  },
  {
   "cell_type": "markdown",
   "metadata": {},
   "source": [
    "The goal of this project is to explore a CSV file containing medical insurance costs using Python. Our objective is to analyze the attributes present in 'insurance.csv' in order to gain insights into patient information and identify potential use cases for the dataset. Through this exploration, we aim to develop foundational programming skills in Python for the purpose of performing exploratory data analysis.\n",
    "\n",
    "In this project, we will:\n",
    "\n",
    "- Calculate both the average and median ages of the patients within the dataset. We will also visualize the age distribution using a histogram to better understand the age demographics.\n",
    "\n",
    "- Investigate the geographical distribution of the dataset by analyzing the regions from which the majority of individuals come. A bar chart will be used to visualize this distribution.\n",
    "\n",
    "- Examine the disparity in costs between smokers and non-smokers, shedding light on potential cost differences based on smoking status.\n",
    "\n",
    "- Demonstrate proficiency in data manipulation by storing patient information in both a dictionary and a Pandas DataFrame. This will provide hands-on experience in working with data structures commonly used in data analysis.\n",
    "\n",
    "Throughout the project, we will engage in data-driven exploration and visualization, honing our skills in Python programming while gaining valuable insights into the medical insurance dataset.\n",
    "\n"
   ]
  },
  {
   "cell_type": "markdown",
   "metadata": {},
   "source": [
    "While the focus of this project is on leveraging Python for data analysis, we will also harness the power of commonly used libraries that seamlessly integrate with Python for efficient data handling. To begin our analysis, we will import these libraries.\n",
    "\n",
    "We will utilize the CSV library to interact with the 'insurance.csv' dataset, Matplotlib to create visually informative representations of our data, and Pandas to facilitate the storage of patient information within a Pandas DataFrame."
   ]
  },
  {
   "cell_type": "code",
   "execution_count": 120,
   "metadata": {},
   "outputs": [],
   "source": [
    "#import CSV library\n",
    "import csv\n",
    "#import Matplotlib library\n",
    "import matplotlib.pyplot as plt\n",
    "#inport Pandas library\n",
    "import pandas as pd"
   ]
  },
  {
   "cell_type": "markdown",
   "metadata": {},
   "source": [
    "Looking at the CSV file we notice that there are columns for:\n",
    "- age of patient\n",
    "- sex of patient\n",
    "- the patients bmi\n",
    "- the number of children the patient has \n",
    "- whether the patient is a smoker or non-smoker\n",
    "- the region of the U.S. that the patient lives in\n",
    "- the patients yearly cost of medical insurance\n",
    "\n",
    "We can start by creating empty lists to store the values of each column"
   ]
  },
  {
   "cell_type": "code",
   "execution_count": 121,
   "metadata": {},
   "outputs": [],
   "source": [
    "#initialize emty lists for storing column values\n",
    "age = []\n",
    "sex = []\n",
    "bmi = []\n",
    "children = []\n",
    "smoker = []\n",
    "region = []\n",
    "charges = []"
   ]
  },
  {
   "cell_type": "markdown",
   "metadata": {},
   "source": [
    "Next we will create a helper function called `load_column_data` to load in the data from the CSV file's columns into the lists. "
   ]
  },
  {
   "cell_type": "code",
   "execution_count": 122,
   "metadata": {},
   "outputs": [],
   "source": [
    "def load_column_data(data_list, csv_file, column_name, data_type=str):\n",
    "    # Open the CSV file\n",
    "    with open(csv_file) as csv_info:\n",
    "        # Read the data from the CSV file\n",
    "        csv_dict = csv.DictReader(csv_info)\n",
    "\n",
    "        # Loop through each row in the CSV\n",
    "        for row in csv_dict:\n",
    "            # Convert the data to the specified data type\n",
    "            converted_data = data_type(row[column_name])\n",
    "            \n",
    "            # Add the converted data to the list\n",
    "            data_list.append(converted_data)\n",
    "\n",
    "    # Return the list of data\n",
    "    return data_list"
   ]
  },
  {
   "cell_type": "markdown",
   "metadata": {},
   "source": [
    "Using the above helper function we can now call it repeatedly to load the data from the columns in insurances.csv to the empty lists"
   ]
  },
  {
   "cell_type": "code",
   "execution_count": null,
   "metadata": {},
   "outputs": [],
   "source": [
    "#each line will load data from it's respective column into a list\n",
    "load_column_data(age, 'insurance.csv', 'age', int)\n",
    "load_column_data(sex, 'insurance.csv', 'sex')\n",
    "load_column_data(bmi, 'insurance.csv', 'bmi', float)\n",
    "load_column_data(children, 'insurance.csv', 'children', int)\n",
    "load_column_data(smoker, 'insurance.csv', 'smoker')\n",
    "load_column_data(region, 'insurance.csv', 'region')\n",
    "load_column_data(charges, 'insurance.csv', 'charges', float)"
   ]
  },
  {
   "cell_type": "markdown",
   "metadata": {},
   "source": [
    "Now that we have loaded the columns into the lists we can begin working with the data."
   ]
  },
  {
   "cell_type": "markdown",
   "metadata": {},
   "source": [
    "## Finding the average and median age of patients within the dataset and graphing the age distribution\n",
    "\n",
    "We can find the average age of patients by finding the sum of the ages in our `age` list and dividing by the number of patients, we can find the median by sorting the list by age and finding the value that is in the middle of the distribution. We can then graph the age distribution to visualize the frequency of different ages spread throughout the dataset.\n",
    "\n",
    "We will create a function `find_average_age` to find the average."
   ]
  },
  {
   "cell_type": "code",
   "execution_count": 124,
   "metadata": {},
   "outputs": [],
   "source": [
    "def find_average_age(age):\n",
    "    #firstly we will find the average age \n",
    "    # Initialize a variable to store the sum of ages\n",
    "    avg_age = 0 \n",
    "\n",
    "    # Iterate through each age in the provided list\n",
    "    for i in range(len(age)):\n",
    "        # Add the current age to the sum\n",
    "        avg_age += int(age[i])\n",
    "    \n",
    "    # Calculate the actual average by dividing the sum by the number of ages\n",
    "    avg_age /= len(age)\n",
    "    \n",
    "    # Print out the calculated average age in a user-friendly message\n",
    "    print(f\"The average age of patients in the dataset is {int(avg_age)}.\")"
   ]
  },
  {
   "cell_type": "markdown",
   "metadata": {},
   "source": [
    "We will next create the function `find_median_age` to find the median age in the dataset."
   ]
  },
  {
   "cell_type": "code",
   "execution_count": 125,
   "metadata": {},
   "outputs": [],
   "source": [
    "def find_median_age(age):\n",
    "    sorted_ages = sorted(age)\n",
    "    n = len(sorted_ages)\n",
    "    \n",
    "    if n % 2 == 0:\n",
    "        middle1 = n // 2\n",
    "        middle2 = middle1 - 1\n",
    "        median = (sorted_ages[middle1] + sorted_ages[middle2]) / 2\n",
    "    else:\n",
    "        middle = n // 2\n",
    "        median = sorted_ages[middle]\n",
    "    \n",
    "    print(f\"The median age of patients in the dataset is {int(median)}\")\n"
   ]
  },
  {
   "cell_type": "markdown",
   "metadata": {},
   "source": [
    "Finally, we will create a function `graph_ages` to create a graph using matplotlib to visualize the distribution of different ages within the dataset"
   ]
  },
  {
   "cell_type": "code",
   "execution_count": 126,
   "metadata": {},
   "outputs": [],
   "source": [
    "def graph_ages(age):\n",
    "    # Create a histogram to visualize the age range\n",
    "    # Define the range of ages\n",
    "    age_range = range(min(age), max(age) + 1)  \n",
    "    # Use the age_range as bins\n",
    "    plt.hist(age, bins=age_range, edgecolor='black')  \n",
    "    plt.xlabel(\"Age\")\n",
    "    plt.ylabel(\"Frequency\")\n",
    "    plt.title(\"Age Distribution of Patients\")\n",
    "    plt.show()"
   ]
  },
  {
   "cell_type": "code",
   "execution_count": 127,
   "metadata": {},
   "outputs": [
    {
     "name": "stdout",
     "output_type": "stream",
     "text": [
      "The average age of patients in the dataset is 39.\n",
      "The median age of patients in the dataset is 39\n"
     ]
    },
    {
     "data": {
      "image/png": "[encoded data removed]",
      "text/plain": [
       "<Figure size 640x480 with 1 Axes>"
      ]
     },
     "metadata": {},
     "output_type": "display_data"
    }
   ],
   "source": [
    "find_average_age(age)\n",
    "find_median_age(age)\n",
    "graph_ages(age)"
   ]
  },
  {
   "cell_type": "markdown",
   "metadata": {},
   "source": [
    "### What's does this mean? \n",
    "We have determined that both the average and median ages within the dataset are 39 years old. This information is significant as it underscores the absence of bias towards either older or younger ages. For instance, an average of 14 or 75 would imply a concentration of either young or elderly patients. In contrast, an average of 39 serves as a reassuring indication that the dataset encompasses a diverse range of ages within the population.\n",
    "\n",
    "The histogram reinforces this observation by presenting additional context. While notable peaks are evident at ages 18, 19, and 64, it's intriguing to observe that the dataset's age range spans from 18 to 64. This comprehensive range effectively represents the spectrum of patient ages in the dataset. Remarkably, the midpoint of this range, which is 41, closely aligns with the dataset's average age of 39. Examining both the mean and median ages provides a deeper understanding of the age distribution's central tendency.\n",
    "\n",
    "Collectively, these insights underscore that the dataset captures a diverse representation of patient ages. The presence of localized peaks at specific ages does not undermine this broader representation. It's important to note that while this finding is valuable, it's essential to remain aware of potential biases that might exist"
   ]
  },
  {
   "cell_type": "markdown",
   "metadata": {},
   "source": [
    "## Finding out where the majority of patients are from\n",
    "\n",
    "To discover this we must take all regions in the dataset, quantify them, and find the *mode* of this column as well as visualize it using a bar chart.\n",
    "\n",
    "We can do this by creating a helper function that will count the amount of times a region appears in the `column` list, it will return the region that appears the most frequently."
   ]
  },
  {
   "cell_type": "code",
   "execution_count": 128,
   "metadata": {},
   "outputs": [
    {
     "name": "stdout",
     "output_type": "stream",
     "text": [
      "Most patients are from the southeastern region of the US.\n"
     ]
    },
    {
     "data": {
      "image/png": "[encoded data removed]",
      "text/plain": [
       "<Figure size 640x480 with 1 Axes>"
      ]
     },
     "metadata": {},
     "output_type": "display_data"
    }
   ],
   "source": [
    "def region_mode(region):\n",
    "    mode = \"\"\n",
    "    most = 0\n",
    "    # Initialize a dictionary to store region frequencies\n",
    "    region_count = {}  \n",
    "    for i in region:\n",
    "        count = 0\n",
    "        for j in region:\n",
    "            if i == j:\n",
    "                count += 1\n",
    "        \n",
    "        if count > most:\n",
    "            most = count\n",
    "            mode = i\n",
    "        \n",
    "        # Update the region count dictionary\n",
    "        region_count[i] = count\n",
    "    \n",
    "    print(f\"Most patients are from the {mode}ern region of the US.\")\n",
    "    \n",
    "    # Create a bar chart to visualize region frequencies\n",
    "    plt.bar(region_count.keys(), region_count.values())\n",
    "    plt.xlabel(\"Regions\")\n",
    "    plt.ylabel(\"Frequency\")\n",
    "    plt.title(\"Distribution of Patient Regions\")\n",
    "    plt.xticks(rotation=45)\n",
    "    plt.show()\n",
    "\n",
    "region_mode(region)"
   ]
  },
  {
   "cell_type": "markdown",
   "metadata": {},
   "source": [
    "### What's the point of finding the most common region?\n",
    "\n",
    "It appears that most patients are from the southeastern United States, and our bar chart supports this finding. This gives us a better understanding of the geographic distribution of our dataset and where the patients live. This can assist in: \n",
    "- Finding where healthcare providers should allocate medical resources effectively \n",
    "- Allowing insurance companies to adjust premiums based on geographical location\n",
    "- Highlighting potential healthcare disparities between regions"
   ]
  },
  {
   "cell_type": "markdown",
   "metadata": {},
   "source": [
    "## Looking at the difference in cost between smokers and non-smokers"
   ]
  },
  {
   "cell_type": "code",
   "execution_count": 129,
   "metadata": {},
   "outputs": [
    {
     "name": "stdout",
     "output_type": "stream",
     "text": [
      "Non-smokers, on average, have lower yearly medical costs compared to smokers by $192297.95.\n"
     ]
    }
   ],
   "source": [
    "def smoking_difference(smoker, charges):\n",
    "    # Initialize variables to track total charges for smokers and non-smokers\n",
    "    total_charges_smoker = 0\n",
    "    total_charges_non_smoker = 0\n",
    "\n",
    "    # Loop through the 'smoker' and 'charges' data using zip\n",
    "    for is_smoker, charge in zip(smoker, charges):\n",
    "        if is_smoker == \"yes\":\n",
    "            total_charges_smoker += float(charge)\n",
    "        if is_smoker == \"no\":\n",
    "            total_charges_non_smoker += float(charge)\n",
    "\n",
    "    # Calculate the difference in costs between smokers and non-smokers\n",
    "    cost_difference = round(total_charges_smoker - total_charges_non_smoker, 2)\n",
    "\n",
    "    # Provide a user-friendly explanation of the result\n",
    "    if cost_difference > 0:\n",
    "        print(f\"Smokers, on average, have higher yearly medical costs compared to non-smokers by ${cost_difference}.\")\n",
    "    elif cost_difference < 0:\n",
    "        print(f\"Non-smokers, on average, have lower yearly medical costs compared to smokers by ${abs(cost_difference)}.\")\n",
    "    else:\n",
    "        print(\"There is no significant difference in yearly medical costs between smokers and non-smokers.\")\n",
    "\n",
    "smoking_difference(smoker, charges)"
   ]
  },
  {
   "cell_type": "markdown",
   "metadata": {},
   "source": [
    "### Why is there such a large difference?\n",
    "It's evident that non-smokers generally incur lower annual medical costs compared to smokers. This discrepancy arises from higher health risks associated with smoking, including respiratory conditions, lung cancer, and heart disease. Smokers typically face increased medical expenses due to these health conditions. Moreover, higher insurance costs can serve as a financial incentive for smokers to consider quitting the habit."
   ]
  },
  {
   "cell_type": "markdown",
   "metadata": {},
   "source": [
    "## Creating a dictionary to store patient information\n",
    "\n",
    "We will now establish a dictionary to organize and store patient information. Utilizing a dictionary for the dataset's information offers a streamlined approach to access, manipulate, and analyze data in the future. This structured arrangement enhances data management and enables efficient exploration. "
   ]
  },
  {
   "cell_type": "code",
   "execution_count": 130,
   "metadata": {},
   "outputs": [],
   "source": [
    "def create_dict(age, sex, bmi, children, smoker, region, charges):\n",
    "    # Initialize an empty dictionary to store medical records\n",
    "    medical_records = {}\n",
    "    \n",
    "    # Create key-value pairs in the dictionary for each attribute\n",
    "    # Convert 'age' to a list of integers\n",
    "    medical_records[\"age\"] = [int(a) for a in age]\n",
    "    \n",
    "    # Copy other attributes as they are\n",
    "    medical_records[\"sex\"] = [s for s in sex]\n",
    "    medical_records[\"bmi\"] = [b for b in bmi]\n",
    "    medical_records[\"children\"] = [c for c in children]\n",
    "    medical_records[\"smoker\"] = [s for s in smoker]\n",
    "    medical_records[\"regions\"] = [r for r in region]\n",
    "    medical_records[\"charges\"] = [c for c in charges]\n",
    "    \n",
    "    # Return the populated medical records dictionary\n",
    "    return medical_records"
   ]
  },
  {
   "cell_type": "code",
   "execution_count": null,
   "metadata": {},
   "outputs": [],
   "source": [
    "#initialize a variable to store the dictionary and call create_dict\n",
    "medical_dictionary = create_dict(age, sex, bmi, children, smoker, region, charges)\n",
    "\n",
    "# Print the resulting medical dictionary\n",
    "print(medical_dictionary)"
   ]
  },
  {
   "cell_type": "markdown",
   "metadata": {},
   "source": [
    "Now the data from each column is neatly stored in a single dictionary!"
   ]
  },
  {
   "cell_type": "markdown",
   "metadata": {},
   "source": [
    "## Storing Patient info into a Pandas DataFrame\n",
    "\n",
    "While we've successfully stored the data in a dictionary, the dictionary format might not be as reader-friendly. To enhance readability and allow more structured analysis, we'll leverage the power of the Pandas library to organize the patient information into a DataFrame. This tabular format allocates a dedicated index to each patient, further simplifying data access and manipulation. Achieving this is straightforward using the pandas.DataFrame.from_dict() function."
   ]
  },
  {
   "cell_type": "code",
   "execution_count": 133,
   "metadata": {},
   "outputs": [
    {
     "name": "stdout",
     "output_type": "stream",
     "text": [
      "      age     sex     bmi  children smoker    regions      charges\n",
      "0      19  female  27.900         0    yes  southwest  16884.92400\n",
      "1      18    male  33.770         1     no  southeast   1725.55230\n",
      "2      28    male  33.000         3     no  southeast   4449.46200\n",
      "3      33    male  22.705         0     no  northwest  21984.47061\n",
      "4      32    male  28.880         0     no  northwest   3866.85520\n",
      "...   ...     ...     ...       ...    ...        ...          ...\n",
      "1333   50    male  30.970         3     no  northwest  10600.54830\n",
      "1334   18  female  31.920         0     no  northeast   2205.98080\n",
      "1335   18  female  36.850         0     no  southeast   1629.83350\n",
      "1336   21  female  25.800         0     no  southwest   2007.94500\n",
      "1337   61  female  29.070         0    yes  northwest  29141.36030\n",
      "\n",
      "[1338 rows x 7 columns]\n"
     ]
    }
   ],
   "source": [
    "#store the data from the dictionary created earlier and transfer it into a DataFrame\n",
    "medical_dataframe = pd.DataFrame.from_dict(medical_dictionary)\n",
    "\n",
    "#print the DataFrame\n",
    "print(medical_dataframe)\n"
   ]
  },
  {
   "cell_type": "markdown",
   "metadata": {},
   "source": [
    "Notice how the patient data is much easier to read now!"
   ]
  },
  {
   "cell_type": "markdown",
   "metadata": {},
   "source": [
    "### Thank you for taking the time to look through this project!"
   ]
  }
 ],
 "metadata": {
  "kernelspec": {
   "display_name": "Python 3",
   "language": "python",
   "name": "python3"
  },
  "language_info": {
   "codemirror_mode": {
    "name": "ipython",
    "version": 3
   },
   "file_extension": ".py",
   "mimetype": "text/x-python",
   "name": "python",
   "nbconvert_exporter": "python",
   "pygments_lexer": "ipython3",
   "version": "3.8.10"
  }
 },
 "nbformat": 4,
 "nbformat_minor": 4
}
