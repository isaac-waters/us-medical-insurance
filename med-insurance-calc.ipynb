{
 "cells": [
  {
   "cell_type": "markdown",
   "metadata": {},
   "source": [
    "# Calculating the Medical Insurance cost of a patient in the United States"
   ]
  },
  {
   "cell_type": "markdown",
   "metadata": {},
   "source": [
    "We will be creating a calculator to calculate insurance cost based on a formula which takes several factors into account. We will then be creating separate functions to se how these factors impact overall medical insurance costs and take time to explain these factors are important to insurance companies when calculating insurance costs.\n",
    "\n",
    "The factors the formula will be taking into account are:\n",
    "- Age of individual\n",
    "- Biological sex of individual\n",
    "- Individual's BMI (Body Mass Index)\n",
    "- Number of children the individual has\n",
    "- Whether or not the individual is a smoker"
   ]
  },
  {
   "cell_type": "code",
   "execution_count": 122,
   "metadata": {
    "ExecuteTime": {
     "end_time": "2023-06-14T03:44:41.175099100Z",
     "start_time": "2023-06-14T03:44:40.860067600Z"
    }
   },
   "outputs": [],
   "source": [
    "#age of individual in years\n",
    "age = 28\n",
    "\n",
    "#0 for female, 1 for male\n",
    "sex = 0\n",
    "\n",
    "#individual's body mass index\n",
    "bmi = 26.2\n",
    "\n",
    "#number of children individual has\n",
    "children = 3\n",
    "\n",
    "#0 for non-smoker, 1 for smoker\n",
    "smoker = 0"
   ]
  },
  {
   "attachments": {},
   "cell_type": "markdown",
   "metadata": {},
   "source": [
    "##### Given the above our example case will be a 28-year-old nonsmoking woman who has three children and a BMI of 26.2"
   ]
  },
  {
   "attachments": {},
   "cell_type": "markdown",
   "metadata": {},
   "source": [
    "will be implementing formula: $$cost=250\\times{age}-128\\times{sex}+370\\times{bmi}+425\\times{children}+24000\\times{smoker}-12500$$"
   ]
  },
  {
   "cell_type": "code",
   "execution_count": 123,
   "metadata": {
    "ExecuteTime": {
     "end_time": "2023-06-14T03:44:41.306344600Z",
     "start_time": "2023-06-14T03:44:40.945273500Z"
    }
   },
   "outputs": [],
   "source": [
    "#function to calculate cost of individual's insurance\n",
    "def calculate_cost(age, sex, bmi, children, smoker):\n",
    "    cost = 250 * age - 128 * sex + 370 * bmi + 425 * children + 24000 * smoker - 12500\n",
    "    return cost\n",
    "\n",
    "cost = calculate_cost(age, sex, bmi, children, smoker)"
   ]
  },
  {
   "cell_type": "code",
   "execution_count": 124,
   "metadata": {
    "ExecuteTime": {
     "end_time": "2023-06-14T03:44:41.313750900Z",
     "start_time": "2023-06-14T03:44:40.955818900Z"
    }
   },
   "outputs": [
    {
     "name": "stdout",
     "output_type": "stream",
     "text": [
      "This person's insurance cost is $5469.00.\n"
     ]
    }
   ],
   "source": [
    "print(f\"This person's insurance cost is ${str(cost)}0.\")"
   ]
  },
  {
   "attachments": {},
   "cell_type": "markdown",
   "metadata": {},
   "source": [
    "#### Next we will be implementing functions to calculate adjustments for each insurance factor to see how much it can influence insurance costs."
   ]
  },
  {
   "attachments": {},
   "cell_type": "markdown",
   "metadata": {},
   "source": [
    "### Age:\n",
    "\n",
    "#### Why Does Age Matter?\n",
    "\n",
    "Insurance companies take age into account when calculating insurance costs because age is a significant predictor of an individual's overall health and likelihood of making insurance claims. Reasons age is an important factor include:\n",
    "- Increased health risks associated with old age\n",
    "- Higher medical expenses due to increased frequency of doctor's visits\n",
    "- Increased potential for mortality risk and death benefit payouts\n",
    "\n",
    "We will be implementing the function `adjust_age()` to calculate how much insurance cost will change based on how much the individual's age increases."
   ]
  },
  {
   "cell_type": "code",
   "execution_count": 125,
   "metadata": {},
   "outputs": [],
   "source": [
    "def adjust_age(age, adjustment):\n",
    "    #the individual won't be getting any younger\n",
    "    if adjustment <= 0:\n",
    "        print(\"Adjustment must be a positive number.\")\n",
    "        return\n",
    "\n",
    "    #adjust age\n",
    "    age += adjustment\n",
    "\n",
    "    #calculate new cost\n",
    "    new_cost = calculate_cost(age, sex, bmi, children, smoker)\n",
    "\n",
    "    #find the difference between new cost and old cost\n",
    "    cost_change = round(new_cost - cost, 2)\n",
    "\n",
    "    #print message giving information on how much the insurance cost changed\n",
    "    print(f\"In {adjustment} years medical insurance cost will have increased by ${str(cost_change)}0 based on individual's age.\")"
   ]
  },
  {
   "cell_type": "code",
   "execution_count": 126,
   "metadata": {},
   "outputs": [
    {
     "name": "stdout",
     "output_type": "stream",
     "text": [
      "In 3 years medical insurance cost will have increased by $750.00 based on individual's age.\n"
     ]
    }
   ],
   "source": [
    "adjust_age(age, 3)"
   ]
  },
  {
   "attachments": {},
   "cell_type": "markdown",
   "metadata": {},
   "source": [
    "### BMI:\n",
    "\n",
    "#### Why Does BMI Matter?\n",
    "\n",
    "Medical insurance companies take BMI (Body Mass Index) into account when calculating insurance costs because BMI is a widely used measure of a person's body weight relative to their height, and it can provide insights into potential health risks. Here are a few reasons why BMI is considered in insurance pricing:\n",
    "- A higher BMI is associated with an increased risk of various weight-related health issues such as heart disease, diabetes, and hypertension\n",
    "- Obesity and a higher BMI can contribute to the development of chronic health conditions that may require ongoing care, perscription drugs, and specialized treatments\n",
    "- BMI can provide insights into an individual's long-term health outlook, allowing insurance companies to asses potential for future claims\n",
    "\n",
    "**Note**: while insurance companies do use BMI in their calculations, and that is reflected in this project, BMI is not necessarily an accurate predictor of health.\n",
    "\n",
    "We will be implementing the function `adjust_bmi()` to calculate how much insurance cost will change based on increases and decreases in the individual's BMI."
   ]
  },
  {
   "cell_type": "code",
   "execution_count": 127,
   "metadata": {
    "ExecuteTime": {
     "end_time": "2023-06-14T03:44:41.315261400Z",
     "start_time": "2023-06-14T03:44:41.075374900Z"
    }
   },
   "outputs": [],
   "source": [
    "def adjust_bmi(bmi, adjustment):\n",
    "    #check whether bmi is being increased or decreased and return string for output\n",
    "    adjust_str = \"increased\" if adjustment >= 0 else \"decreased\"\n",
    "\n",
    "    #adjust bmi\n",
    "    bmi += adjustment\n",
    "\n",
    "    #calculate new cost\n",
    "    new_cost = calculate_cost(age, sex, bmi, children, smoker)\n",
    "\n",
    "    #find the difference between new cost and old cost\n",
    "    cost_change = new_cost - cost\n",
    "\n",
    "    #check to see if the difference was positive or negative, if negative the cost decreased, if positive it increased\n",
    "    change_str = \"increased\" if cost_change >= 0 else \"decreased\"\n",
    "\n",
    "    #print message giving user info on how much the insurance cost changed\n",
    "    print(f\"When BMI is {adjust_str} by {adjustment}, medical insurance cost is {change_str} by ${str(abs(cost_change))}0.\")"
   ]
  },
  {
   "cell_type": "code",
   "execution_count": 128,
   "metadata": {},
   "outputs": [
    {
     "name": "stdout",
     "output_type": "stream",
     "text": [
      "When BMI is increased by 3.1, medical insurance cost is increased by $1147.00.\n"
     ]
    }
   ],
   "source": [
    "adjust_bmi(bmi, 3.1)"
   ]
  },
  {
   "attachments": {},
   "cell_type": "markdown",
   "metadata": {},
   "source": [
    "### Sex:\n",
    "\n",
    "#### Why Does Sex Matter?\n",
    "\n",
    "Medical insurance companies take sex into account when calculating insurance costs because biological sex has been shown to have an impact on health risks and healthcare utilization. Here are a few reasons as to why sex is considered in insurance pricing:\n",
    "- Men and women can have different helth risks and susceptibilities to certain medical conditions. For example, men have a higher risk of heart disease at certain ages while women have different risks related to reproductive health.\n",
    "- Pregnancy and childbirth are unique to women and can involve significant medical expenses.\n",
    "- Certain types of cancer affect different sexes disproportionately, such as breast cancer for women and prostate cancer for men.\n",
    "- There are differences in life expectency betwen men and women, insurance companies must take this into account when considering payout of death benefits\n",
    "\n",
    "We will be implementing the function `adjust_sex()` to calculate how much insurance cost would change if the individual were the opposite biological sex."
   ]
  },
  {
   "cell_type": "code",
   "execution_count": 129,
   "metadata": {
    "ExecuteTime": {
     "end_time": "2023-06-14T03:44:41.315261400Z",
     "start_time": "2023-06-14T03:44:41.141783800Z"
    }
   },
   "outputs": [],
   "source": [
    "def adjust_sex(sex):\n",
    "    #change the sex from male to female or female to male (1 - 1 = 0, 1 - 0 = 1)\n",
    "    sex = 1 - sex\n",
    "\n",
    "    #determine whether sex after change is male or female and create string for output\n",
    "    sex_str = \"male\" if sex == 1 else \"female\"\n",
    "\n",
    "    #calculate new cost\n",
    "    new_cost = calculate_cost(age, sex, bmi, children, smoker)\n",
    "\n",
    "    #find the difference between new cost and old cost\n",
    "    cost_change = new_cost - cost\n",
    "\n",
    "    #check to see if the difference was positive or negative, if negative the cost decreased, if positive it increased\n",
    "    change_str = \"increased\" if cost_change >= 0 else \"decreased\"\n",
    "\n",
    "    #print message giving user info on how much the insurance cost changed\n",
    "    print(f\"When sex of individual is {sex_str}, cost is {change_str} by ${str(abs(cost_change))}0.\")"
   ]
  },
  {
   "cell_type": "code",
   "execution_count": 130,
   "metadata": {},
   "outputs": [
    {
     "name": "stdout",
     "output_type": "stream",
     "text": [
      "When sex of individual is male, cost is decreased by $128.00.\n"
     ]
    }
   ],
   "source": [
    "adjust_sex(sex)"
   ]
  },
  {
   "attachments": {},
   "cell_type": "markdown",
   "metadata": {},
   "source": [
    "### Smoker:\n",
    "\n",
    "#### Why Does Smoking Status Matter?\n",
    "\n",
    "Insurance companies take smoking status into account when calculating insurance costs due to the significant impact smoking has on health risks, medical expenses, and mortality rates. here are a few reasons why smoking is a crucial factor in insurance pricing:\n",
    "- Smoking is a leading cause of numerous health problems including heart disease, stroke, lung cancer, and respiratory issues.\n",
    "- Smokers typically require more frequent medical care than non-smokers\n",
    "- Smokers have a significantly higher risk of premature death due to smoking-related diseases\n",
    "- Pricing policies for smokers encourage healthier behavior by providing an economic incentive to quit smoking\n",
    "\n",
    "We will be implementing the function `adjust_smoker()` to calculate how much insurance cost will change based on whether an individual starts or stops smoking."
   ]
  },
  {
   "cell_type": "code",
   "execution_count": 131,
   "metadata": {
    "ExecuteTime": {
     "end_time": "2023-06-14T03:44:41.527989700Z",
     "start_time": "2023-06-14T03:44:41.207342800Z"
    }
   },
   "outputs": [],
   "source": [
    "def adjust_smoker(smoker):\n",
    "    #change smoking status from smoker to non-smoker or vice versa (1 - 1 = 0, 1 - 0 = 1)\n",
    "    smoker = 1 - smoker\n",
    "\n",
    "    #calculate new cost\n",
    "    new_cost = calculate_cost(age, sex, bmi, children, smoker)\n",
    "\n",
    "    #find the difference between new cost and old cost\n",
    "    cost_change = new_cost - cost\n",
    "\n",
    "    #check to see if the difference was positive or negative, if negative the cost decreased, if positive it increased\n",
    "    change_str = \"increased\" if cost_change >= 0 else \"decreased\"\n",
    "\n",
    "    #adjust output message based on how smoking status changed, then print message\n",
    "    if smoker == 1:\n",
    "        print(f\"If individual picks up smoking, medical insurance cost will be {change_str} by ${str(abs(cost_change))}0.\")\n",
    "    else:\n",
    "        print(f\"If individual stops smoking, medical insurance cost will be {change_str} by ${str(abs(cost_change))}0.\")"
   ]
  },
  {
   "cell_type": "code",
   "execution_count": 132,
   "metadata": {},
   "outputs": [
    {
     "name": "stdout",
     "output_type": "stream",
     "text": [
      "If individual picks up smoking, medical insurance cost will be increased by $24000.00.\n"
     ]
    }
   ],
   "source": [
    "adjust_smoker(smoker)"
   ]
  },
  {
   "attachments": {},
   "cell_type": "markdown",
   "metadata": {},
   "source": [
    "### Number of Children:\n",
    "\n",
    "#### Why Does Number of Children Matter?\n",
    "\n",
    "Insurance companies may consider the number of children as a factor when calculating insurance costs for several reasons. here are a few reasons:\n",
    "\n",
    "- The number of children in a family can influence overall healthcare expenses due to routine check-ups, vaccinations, and pediatric care\n",
    "- Insurers consider the costs associated with pregnancy, childbirth, and maternity care. Families with more children will have more costs associated with these factors\n",
    "- Families with children are more likely to use emerbgency services for various reasons such as accidents, injuries, and sudden illness.\n",
    "- If any of the children have chronic health conditions, insurers must account for for potential ongoing medical care\n",
    "\n",
    "We will be implementing the function `adjust_children()` to calculate how much insurance cost may increase if the individual decides to have more children."
   ]
  },
  {
   "cell_type": "code",
   "execution_count": 133,
   "metadata": {
    "ExecuteTime": {
     "end_time": "2023-06-14T03:44:41.564909300Z",
     "start_time": "2023-06-14T03:44:41.272111200Z"
    }
   },
   "outputs": [],
   "source": [
    "def adjust_children(children, adjustment):\n",
    "    #you hopefully aren't going to be losing children\n",
    "    if adjustment <= 0:\n",
    "        print(\"Adjustment must be a positive number.\")\n",
    "        return\n",
    "    \n",
    "    #adjust number of children individual has\n",
    "    children += adjustment\n",
    "\n",
    "    #calculate new cost\n",
    "    new_cost = calculate_cost(age, sex, bmi, children, smoker)\n",
    "\n",
    "    #find the difference between new cost and old cost\n",
    "    cost_change = new_cost - cost\n",
    "\n",
    "    #check to see if the difference was positive or negative, if negative the cost decreased, if positive it increased\n",
    "    change_str = \"increased\" if cost_change >= 0 else \"decreased\"\n",
    "\n",
    "    #print message giving user info on how much the insurance cost changed\n",
    "    print(f\"If individual were to have {adjustment} more children, insurance cost would be {change_str} by ${str(abs(cost_change))}0.\")"
   ]
  },
  {
   "cell_type": "code",
   "execution_count": 134,
   "metadata": {},
   "outputs": [
    {
     "name": "stdout",
     "output_type": "stream",
     "text": [
      "If individual were to have 3 more children, insurance cost would be increased by $1275.00.\n"
     ]
    }
   ],
   "source": [
    "adjust_children(children, 3)"
   ]
  },
  {
   "cell_type": "markdown",
   "metadata": {},
   "source": [
    "### Thank you for taking the time to read this! I hope you have learned something new about medical insurance costs in the U.S. and what goes into calculating those costs."
   ]
  }
 ],
 "metadata": {
  "kernelspec": {
   "display_name": "base",
   "language": "python",
   "name": "python3"
  },
  "language_info": {
   "codemirror_mode": {
    "name": "ipython",
    "version": 3
   },
   "file_extension": ".py",
   "mimetype": "text/x-python",
   "name": "python",
   "nbconvert_exporter": "python",
   "pygments_lexer": "ipython3",
   "version": "3.8.10"
  },
  "orig_nbformat": 4
 },
 "nbformat": 4,
 "nbformat_minor": 2
}
